{
 "cells": [
  {
   "cell_type": "markdown",
   "id": "b161e4f7-f585-453a-95bd-89a152dbe691",
   "metadata": {},
   "source": [
    "# 50000"
   ]
  },
  {
   "cell_type": "code",
   "execution_count": null,
   "id": "fb53c91a-6210-46b5-a77f-95dc1d5e6ca1",
   "metadata": {},
   "outputs": [],
   "source": [
    "from experiments_utils import run_maybe_remotely\n",
    "from sbi_ebm.sbibm.sbi_ebm import run\n",
    "ret = run_maybe_remotely(\n",
    "    run,\n",
    "    folder_name=\"pyloric\",\n",
    "    experience_name=\"iclr_experiments_3\",\n",
    "    use_slurm=True,\n",
    "    slurm_kwargs={\n",
    "        \"exclude\": \"gpu-350-01,gpu-350-02,gpu-350-03,gpu-350-04,gpu-350-05,gpu-380-10,gpu-380-11,gpu-380-12,gpu-380-13,gpu-380-14,gpu-sr670-21\",\n",
    "        \"mem\": \"64G\"\n",
    "    },\n",
    "    task=\"pyloric\",\n",
    "    num_samples=(50000,*(10000,)*10),\n",
    "    num_observation=2,\n",
    "    num_mala_steps=200,\n",
    "    use_warm_start=False,\n",
    "    learning_rate=0.0001,\n",
    "    max_iter=2000,\n",
    "    weight_decay=0.01,\n",
    "    random_seed=40,\n",
    "    sampler=\"mala\",\n",
    "    num_particles=1000,\n",
    "    batch_size=1000,\n",
    "    restart_every=None,\n",
    "    num_posterior_samples=1000,\n",
    "    use_nuts=False,\n",
    "    init_proposal=\"prior\",\n",
    "    noise_injection_val=0.001,\n",
    "    proposal=\"data\",\n",
    "    tempering_coef=None,\n",
    "    inference_sampler=\"exchange_mcmc\",\n",
    "    ebm_model_type=\"likelihood\",\n",
    "    select_based_on_test_loss=False,\n",
    "    inference_proposal=\"prior\",\n",
    "    use_data_from_past_rounds=True,\n",
    "    estimate_loss=False,\n",
    "    ebm_depth=9,\n",
    "    ebm_width=300,\n",
    "    exchange_mcmc_inner_sampler_num_steps=500,\n",
    "    checkpoint=True,\n",
    "    inference_num_warmup_steps=2000,\n",
    "    training_num_frozen_steps=50\n",
    ")"
   ]
  },
  {
   "cell_type": "markdown",
   "id": "c2899679-a0ad-40af-b19e-b51c476875dd",
   "metadata": {},
   "source": [
    "# 100000"
   ]
  },
  {
   "cell_type": "code",
   "execution_count": null,
   "id": "a017de8b-85d9-4577-9555-04a46fe103c2",
   "metadata": {},
   "outputs": [],
   "source": [
    "from experiments_utils import run_maybe_remotely\n",
    "from sbi_ebm.sbibm.sbi_ebm import run\n",
    "ret = run_maybe_remotely(\n",
    "    run,\n",
    "    folder_name=\"iclr_experiments_3\",\n",
    "    experience_name=\"paper\",\n",
    "    use_slurm=True,\n",
    "    slurm_kwargs={\n",
    "        \"exclude\": \"gpu-350-01,gpu-350-02,gpu-350-03,gpu-350-04,gpu-350-05,gpu-380-10,gpu-380-11,gpu-380-12,gpu-380-13,gpu-380-14,gpu-sr670-21\",\n",
    "        \"mem\": \"64G\"\n",
    "    },\n",
    "    task=\"pyloric\",\n",
    "    num_samples=(100000,*(10000,)*10),\n",
    "    num_observation=2,\n",
    "    num_mala_steps=50,\n",
    "    use_warm_start=True,\n",
    "    learning_rate=0.0001,\n",
    "    max_iter=2000,\n",
    "    weight_decay=0.01,\n",
    "    random_seed=40,\n",
    "    sampler=\"nuts\",\n",
    "    num_particles=1000,\n",
    "    batch_size=1000,\n",
    "    restart_every=None,\n",
    "    num_posterior_samples=1000,\n",
    "    use_nuts=False,\n",
    "    init_proposal=\"prior\",\n",
    "    noise_injection_val=0.01,\n",
    "    proposal=\"data\",\n",
    "    tempering_coef=None,\n",
    "    inference_sampler=\"exchange_mcmc\",\n",
    "    ebm_model_type=\"likelihood\",\n",
    "    select_based_on_test_loss=False,\n",
    "    inference_proposal=\"prior\",\n",
    "    use_data_from_past_rounds=True,\n",
    "    estimate_loss=False,\n",
    "    ebm_depth=9,\n",
    "    ebm_width=300,\n",
    "    exchange_mcmc_inner_sampler_num_steps=1000,\n",
    "    checkpoint=True,\n",
    "    inference_num_warmup_steps=2000,\n",
    "    training_num_frozen_steps=10\n",
    ")"
   ]
  }
 ],
 "metadata": {
  "kernelspec": {
   "display_name": "unle",
   "language": "python",
   "name": "unle"
  },
  "language_info": {
   "codemirror_mode": {
    "name": "ipython",
    "version": 3
   },
   "file_extension": ".py",
   "mimetype": "text/x-python",
   "name": "python",
   "nbconvert_exporter": "python",
   "pygments_lexer": "ipython3",
   "version": "3.9.9"
  }
 },
 "nbformat": 4,
 "nbformat_minor": 5
}
