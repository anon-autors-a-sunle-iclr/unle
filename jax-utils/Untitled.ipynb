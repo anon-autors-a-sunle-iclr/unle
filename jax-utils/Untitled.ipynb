{
 "cells": [
  {
   "cell_type": "code",
   "execution_count": 1,
   "id": "d267a365-545d-4cab-bd27-efe7e8061f7a",
   "metadata": {},
   "outputs": [],
   "source": [
    "import os"
   ]
  },
  {
   "cell_type": "code",
   "execution_count": 2,
   "id": "262fb515-c6a7-4c3e-9e02-ced56eadf19f",
   "metadata": {},
   "outputs": [],
   "source": [
    "from cuda_setup.test_jax_installation import show_environment_variables\n",
    "from cuda_setup.set_conda_env_vars_for_jax_gpu import set_environment_for_jax"
   ]
  },
  {
   "cell_type": "code",
   "execution_count": 6,
   "id": "340f9f9d-cc7f-436c-957d-aae57532ce12",
   "metadata": {},
   "outputs": [],
   "source": [
    "import jax.numpy as jnp"
   ]
  },
  {
   "cell_type": "code",
   "execution_count": 7,
   "id": "82f266e9-bb43-4211-8a07-a3e3d2d19983",
   "metadata": {},
   "outputs": [],
   "source": [
    "from numpyro import distributions"
   ]
  },
  {
   "cell_type": "code",
   "execution_count": 8,
   "id": "fc280ae9-7bcb-4424-8850-440283ec62b1",
   "metadata": {},
   "outputs": [],
   "source": [
    "d = distributions.MultivariateNormal(jnp.zeros((2,)), jnp.eye(2))"
   ]
  }
 ],
 "metadata": {
  "kernelspec": {
   "display_name": "icml-2022",
   "language": "python",
   "name": "icml-2022"
  },
  "language_info": {
   "codemirror_mode": {
    "name": "ipython",
    "version": 3
   },
   "file_extension": ".py",
   "mimetype": "text/x-python",
   "name": "python",
   "nbconvert_exporter": "python",
   "pygments_lexer": "ipython3",
   "version": "3.9.9"
  }
 },
 "nbformat": 4,
 "nbformat_minor": 5
}
